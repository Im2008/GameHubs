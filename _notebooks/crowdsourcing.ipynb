{
 "cells": [
  {
   "cell_type": "markdown",
   "metadata": {},
   "source": [
    "---\n",
    "layout: post\n",
    "title: crowdsourcing\n",
    "description: Team Teach on Crowdsourcing\n",
    "authors: Zach, Ian, Aarush\n",
    "type: issues\n",
    "permalink: /crowdsourcing\n",
    "comments: true\n",
    "---"
   ]
  },
  {
   "cell_type": "markdown",
   "metadata": {},
   "source": [
    "what is crowdsourcing? - zach"
   ]
  },
  {
   "cell_type": "markdown",
   "metadata": {},
   "source": [
    "# **Types of Crowdsourcing**\n",
    "\n",
    "Crowdsourcing is a method of obtaining ideas, content, or services by soliciting contributions from a large group of people, typically from an online community. There are four main types of crowdsourcing:\n",
    "\n",
    "## **1. Crowdfunding**\n",
    "- **Purpose:** Raising money by collecting small contributions from a large group of people.  \n",
    "- **Examples:** Kickstarter, GoFundMe, Indiegogo.  \n",
    "- **Use Case:** A startup company seeking funds to launch a new product.\n",
    "\n",
    "## **2. Crowd Creation**\n",
    "- **Purpose:** Gathering creative input from a crowd, often for content generation or design.  \n",
    "- **Examples:** Threadless (design competitions), Wikipedia (content creation).  \n",
    "- **Use Case:** A company asking graphic designers to submit logo ideas.\n",
    "\n",
    "## **3. Crowd Voting**\n",
    "- **Purpose:** Collecting public opinion or feedback to make decisions or rank options.  \n",
    "- **Examples:** Reddit upvotes, talent show voting systems.  \n",
    "- **Use Case:** A company asking users to vote on their next product color.\n",
    "\n",
    "## **4. Crowd Wisdom**\n",
    "- **Purpose:** Using collective intelligence for decision-making or problem-solving.  \n",
    "- **Examples:** Prediction markets, Stack Overflow, Quora.  \n",
    "- **Use Case:** Gathering expert opinions to forecast stock market trends.\n",
    "\n",
    "---\n",
    "\n",
    "## **Key Benefits of Crowdsourcing**\n",
    "- Access to diverse ideas and skills.  \n",
    "- Cost-effective for organizations.  \n",
    "- Encourages community engagement.\n",
    "\n",
    "## **Challenges of Crowdsourcing**\n",
    "- Ensuring quality control.  \n",
    "- Managing intellectual property rights.  \n",
    "- Avoiding exploitation of contributors."
   ]
  },
  {
   "cell_type": "markdown",
   "metadata": {},
   "source": [
    "data crowdsourcing - aarush"
   ]
  },
  {
   "cell_type": "markdown",
   "metadata": {},
   "source": [
    "open source development - zach"
   ]
  },
  {
   "cell_type": "markdown",
   "metadata": {},
   "source": [
    "# **Evidence of Public Datasets**\n",
    "\n",
    "Public datasets have become invaluable resources for research, innovation, and development across various industries. Below are key examples that highlight the impact of publicly available data:\n",
    "\n",
    "## **1. Kaggle Datasets**\n",
    "- **Evidence:** Hosts thousands of publicly available datasets for data science and machine learning projects.  \n",
    "- **Impact:** Supports data scientists by providing structured data for competitions, research, and model development.  \n",
    "- **Notable Fact:** Datasets like the Titanic passenger list and COVID-19 statistics have led to impactful insights.\n",
    "\n",
    "## **2. Google Open Images**\n",
    "- **Evidence:** A collection of over 9 million annotated images for machine learning projects.  \n",
    "- **Impact:** Provides high-quality image data to improve computer vision models.  \n",
    "- **Notable Fact:** Widely used in academic research and AI development.\n",
    "\n",
    "## **3. UCI Machine Learning Repository**\n",
    "- **Evidence:** Offers hundreds of datasets for ML research, dating back to the 1980s.  \n",
    "- **Impact:** Became a foundational resource for learning algorithms and testing models.  \n",
    "- **Notable Fact:** The Iris dataset, one of the most famous in data science, originates here.\n",
    "\n",
    "## **4. NASA Earth Observations (NEO)**\n",
    "- **Evidence:** Provides global climate, atmospheric, and environmental data.  \n",
    "- **Impact:** Used by scientists and researchers for climate change analysis and environmental monitoring.  \n",
    "- **Notable Fact:** NEO data has contributed to critical studies on global warming and natural disasters.\n",
    "\n",
    "## **5. World Bank Open Data**\n",
    "- **Evidence:** Offers economic, social, and demographic data from countries worldwide.  \n",
    "- **Impact:** Supports policy development, academic research, and global economic analysis.  \n",
    "- **Notable Fact:** Data from this platform has helped track global poverty trends.\n",
    "\n",
    "---\n",
    "\n",
    "## **Key Insights from Public Datasets**\n",
    "- **Accessibility:** Public datasets provide free and open resources for learning, research, and development.  \n",
    "- **Innovation Driver:** These datasets have fueled advancements in AI, healthcare, economics, and more.  \n",
    "- **Global Impact:** Public data empowers individuals and organizations to address real-world challenges.\n",
    "\n",
    "Public datasets continue to democratize data-driven decision-making, fostering progress across various fields."
   ]
  },
  {
   "cell_type": "markdown",
   "metadata": {},
   "source": [
    "distributed computing - aarush"
   ]
  },
  {
   "cell_type": "markdown",
   "metadata": {},
   "source": [
    "innovations - zach"
   ]
  },
  {
   "cell_type": "markdown",
   "metadata": {},
   "source": [
    "# **Evidence of Crowdsourcing**\n",
    "\n",
    "Crowdsourcing has played a significant role in shaping industries, solving problems, and creating impactful projects. Below are key examples that highlight the success and influence of crowdsourcing:\n",
    "\n",
    "## **1. Wikipedia**\n",
    "- **Evidence:** Over 6 million English articles created by volunteers worldwide.  \n",
    "- **Impact:** Provides free, accessible knowledge across various subjects.  \n",
    "- **Notable Fact:** Wikipedia thrives on crowd contributions for editing, verifying, and improving content.\n",
    "\n",
    "## **2. Duolingo**\n",
    "- **Evidence:** Early language content was sourced from volunteers and users.  \n",
    "- **Impact:** Helped the platform expand rapidly with accurate translations and course material.  \n",
    "- **Notable Fact:** Community contributions played a key role in growing over 40 language courses.\n",
    "\n",
    "## **3. Waze**\n",
    "- **Evidence:** Real-time traffic updates rely on driver reports and community insights.  \n",
    "- **Impact:** Enables more accurate navigation by integrating user-contributed road conditions.  \n",
    "- **Notable Fact:** Millions of drivers actively contribute data daily.\n",
    "\n",
    "## **4. LEGO Ideas**\n",
    "- **Evidence:** Fans submit designs, and winning ideas are turned into official LEGO sets.  \n",
    "- **Impact:** Engages LEGO enthusiasts while inspiring product innovation.  \n",
    "- **Notable Fact:** The \"Women of NASA\" set, created through LEGO Ideas, became a top-selling kit.\n",
    "\n",
    "## **5. SETI@home**\n",
    "- **Evidence:** Utilized idle computer power from volunteers to analyze radio signals for extraterrestrial life.  \n",
    "- **Impact:** Enabled researchers to process vast amounts of data without investing in expensive infrastructure.  \n",
    "- **Notable Fact:** Millions of users joined, turning personal computers into part of a global science project.\n",
    "\n",
    "---\n",
    "\n",
    "## **Key Insights from Crowdsourcing Evidence**\n",
    "- **Diverse Contributions:** Crowdsourcing taps into global talent and knowledge.  \n",
    "- **Efficiency Gains:** Projects like SETI@home demonstrate how distributed efforts save resources.  \n",
    "- **Community Engagement:** Platforms like LEGO Ideas foster strong user involvement and creativity.\n",
    "\n",
    "Crowdsourcing continues to revolutionize industries, proving that collective effort can achieve remarkable outcomes."
   ]
  },
  {
   "cell_type": "markdown",
   "metadata": {},
   "source": [
    "obtaining data via crowdsourcing - aarush"
   ]
  },
  {
   "cell_type": "markdown",
   "metadata": {},
   "source": [
    "popcorn hack 1 - zach"
   ]
  },
  {
   "cell_type": "markdown",
   "metadata": {},
   "source": [
    "## Popcorn Hack 2:\n",
    "\n",
    " - Picture an example that include crowdsourcing like Duolingo and Wikipedia, describe how that example uses crowdsourcing."
   ]
  },
  {
   "cell_type": "markdown",
   "metadata": {},
   "source": [
    "popcorn hack 3 - aarush"
   ]
  },
  {
   "cell_type": "markdown",
   "metadata": {},
   "source": [
    "homework question 1 - zach"
   ]
  },
  {
   "cell_type": "markdown",
   "metadata": {},
   "source": [
    "# **Homework Hack 2: The Collaborative Study Guide Builder**\n",
    "Leverage crowdsourcing methods and public datasets to create a powerful, student-driven study guide.\n",
    "\n",
    "## **Steps:**\n",
    "\n",
    "### **1. Form a Study Group (Crowdsourcing Element)**\n",
    "- Divide your classmates into small teams and assign each group a specific topic or chapter.  \n",
    "- Each team will be responsible for gathering key points, examples, and practice questions.  \n",
    "\n",
    "### **2. Use Public Datasets for Evidence and Insights**\n",
    "- Find relevant datasets to add real-world examples to your study guide:\n",
    "  - **History Class?** Use **World Bank Open Data** for economic trends.  \n",
    "  - **Science Class?** Use **NASA NEO** data for environmental patterns.  \n",
    "  - **Math Class?** Try **Kaggle** datasets for number-crunching examples."
   ]
  },
  {
   "cell_type": "markdown",
   "metadata": {},
   "source": [
    "homework question 3 - aarush"
   ]
  }
 ],
 "metadata": {
  "language_info": {
   "name": "python"
  }
 },
 "nbformat": 4,
 "nbformat_minor": 2
}
