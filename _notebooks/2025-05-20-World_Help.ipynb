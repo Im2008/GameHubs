{
 "cells": [
  {
   "cell_type": "markdown",
   "id": "75c26a56",
   "metadata": {},
   "source": [
    "---\n",
    "layout: post\n",
    "title: Worlds Help Page\n",
    "description: Main World Help Page\n",
    "permalink: /world_help\n",
    "Author: Ian, Zach, Aarush\n",
    "---"
   ]
  },
  {
   "cell_type": "markdown",
   "id": "cbdc7b65",
   "metadata": {},
   "source": [
    "# 🧠 High-Level Overview\n",
    "\n",
    "**Layout / Style:**  \n",
    "The page is built using Jekyll (`layout: post`) and heavily styled with CSS for a dark, immersive, game-like look. A canvas is used for the player and world rendering, and other HTML elements support UI (e.g., point display, modals).\n",
    "\n",
    "---\n",
    "\n",
    "## Core Features\n",
    "\n",
    "- Character movement (WASD)\n",
    "- Game world rendered via `<canvas>`\n",
    "- Game \"icons\" act as portals to minigames\n",
    "- A Skin Selection Modal opens when the player collides with a designated area\n",
    "\n",
    "---\n",
    "\n",
    "# 🌍 How the World System Works\n",
    "\n",
    "### 1. Canvas + Player\n",
    "\n",
    "A `<canvas>` element (`#gameCanvas`) draws:\n",
    "\n",
    "- The background image (`worldbackground0.png`)\n",
    "- The player character (`spriteImage`) based on selected skin\n",
    "- Various interactive objects (icons for games)\n",
    "\n",
    "The player is a JS object with position and speed. Movement is controlled via WASD keys."
   ]
  },
  {
   "cell_type": "code",
   "execution_count": null,
   "id": "dc343635",
   "metadata": {
    "vscode": {
     "languageId": "javascript"
    }
   },
   "outputs": [],
   "source": [
    "const player = {\n",
    "  x: 490,\n",
    "  y: 570,\n",
    "  width: 75,\n",
    "  height: 75,\n",
    "  speed: 4\n",
    "};"
   ]
  },
  {
   "cell_type": "markdown",
   "id": "4dc1d12c",
   "metadata": {},
   "source": [
    "## 2. Game Objects\n",
    "\n",
    "Defined in an array `objects`, where each has `x`, `y`, and `game` key (e.g., `'skin'`, `'aboutus'`, etc.).\n",
    "\n",
    "When the player touches an object, an action is triggered (e.g., go to a game route like `/blackjack`).\n",
    "\n",
    "## 3. Collision Detection\n",
    "\n",
    "`isColliding(player, obj)` is used to determine interaction.\n",
    "\n",
    "If player collides with a game object, it triggers a redirect:"
   ]
  },
  {
   "cell_type": "code",
   "execution_count": null,
   "id": "501a6637",
   "metadata": {
    "vscode": {
     "languageId": "javascript"
    }
   },
   "outputs": [],
   "source": [
    "window.location.href = '{{site.baseurl}}/blackjack';"
   ]
  },
  {
   "cell_type": "markdown",
   "id": "05808edb",
   "metadata": {},
   "source": [
    "# 🎮 Moving / Adding / Adjusting Games\n",
    "\n",
    "### ✅ To Add a Game:\n",
    "Add a new entry in the `objects` array with:\n",
    "\n",
    "- `x`, `y`, `width`, `height`\n",
    "- `game: 'yourgamename'`\n",
    "\n",
    "Add a matching image in the `objectImages` map:"
   ]
  },
  {
   "cell_type": "code",
   "execution_count": null,
   "id": "c9d6c607",
   "metadata": {
    "vscode": {
     "languageId": "javascript"
    }
   },
   "outputs": [],
   "source": [
    "objectImages.yourgamename = '{{site.baseurl}}/images/iconNEW.png';"
   ]
  },
  {
   "cell_type": "markdown",
   "id": "483c446f",
   "metadata": {},
   "source": [
    "## In the update() function's collision switch, add:"
   ]
  },
  {
   "cell_type": "code",
   "execution_count": null,
   "id": "ae1cf264",
   "metadata": {
    "vscode": {
     "languageId": "javascript"
    }
   },
   "outputs": [],
   "source": [
    "case 'yourgamename':\n",
    "  window.location.href = '{{site.baseurl}}/yourgamename';\n",
    "  break;"
   ]
  },
  {
   "cell_type": "markdown",
   "id": "2022f758",
   "metadata": {},
   "source": [
    "## 📦 To Move an Icon:\n",
    "Just update the x and y of the desired object:"
   ]
  },
  {
   "cell_type": "code",
   "execution_count": null,
   "id": "21905778",
   "metadata": {
    "vscode": {
     "languageId": "javascript"
    }
   },
   "outputs": [],
   "source": [
    "{ x: 820, y: 660, width: 40, height: 40, game: 'format' }"
   ]
  },
  {
   "cell_type": "markdown",
   "id": "86963809",
   "metadata": {},
   "source": [
    "## 🎨 To Change a Game's Icon Image:\n",
    "Update its entry in objectImages:"
   ]
  },
  {
   "cell_type": "code",
   "execution_count": null,
   "id": "5287e7f6",
   "metadata": {
    "vscode": {
     "languageId": "javascript"
    }
   },
   "outputs": [],
   "source": [
    "objectImages.format = '{{site.baseurl}}/images/newIcon.png';"
   ]
  },
  {
   "cell_type": "markdown",
   "id": "8eaaf248",
   "metadata": {},
   "source": [
    "# 👕 Skin System\n",
    "\n",
    "- When you touch the top-right box (`topRightBox`), the modal opens to select a skin.\n",
    "- Skins are clickable `.skin-option` divs with backgrounds.\n",
    "- Confirming a skin updates `currentSpriteIndex` to change the player’s sprite image.\n",
    "\n",
    "### To add more skins:\n",
    "\n",
    "- Add a new `.skin-option` div with an appropriate background-image.\n",
    "- Push its URL into the `spriteImages` array.\n",
    "- Handle logic in JS (if needed) to update `currentSpriteIndex`.\n",
    "\n",
    "---\n",
    "\n",
    "# 🔧 Ways to Adjust the System\n",
    "\n",
    "| Task                     | What to Modify                                |\n",
    "|--------------------------|----------------------------------------------|\n",
    "| 🎮 Add a game            | Add to `objects`, `objectImages`, `update()` redirect |\n",
    "| 📍 Move a game icon      | Change `x`/`y` in `objects`                   |\n",
    "| 🖼️ Change game icon     | Update image URL in `objectImages`            |\n",
    "| 🧍‍♂️ Change player start position | Modify `player.x` and `player.y`            |\n",
    "| 👕 Add skins             | Update `.skin-option`, `spriteImages[]`       |\n",
    "| 🎵 Change music          | Replace `EARFQUAKE.mp3` path                    |\n",
    "| ⛔ Add walls/boundaries  | Add entries to `walls` array                    |\n",
    "| 🎨 Change background     | Replace `worldbackground0.png`                  |\n",
    "\n",
    "---\n",
    "\n",
    "# 💡 Ideas for Expansion\n",
    "\n",
    "- Add animated NPCs or story characters.\n",
    "- Use `localStorage` to save selected skin. (Optional)\n",
    "- Add a points/rewards system for unlocking new games. (Optional)\n",
    "- Use a minimap to navigate a larger world.\n",
    "- Make worlds scrollable or paginated if too many icons."
   ]
  }
 ],
 "metadata": {
  "language_info": {
   "name": "python"
  }
 },
 "nbformat": 4,
 "nbformat_minor": 5
}
