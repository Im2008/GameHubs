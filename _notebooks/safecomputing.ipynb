{
 "cells": [
  {
   "cell_type": "raw",
   "metadata": {},
   "source": [
    "---\n",
    "layout: post\n",
    "title: Safe Computing\n",
    "description: Team Teach on Safe Computing\n",
    "type: issues\n",
    "permalink: /safecomputing\n",
    "comments: true\n",
    "---\n"
   ]
  },
  {
   "cell_type": "markdown",
   "metadata": {},
   "source": [
    "## Big Idea 5: Safe Computing ##\n",
    "\n",
    "### What is Safe Computing ###\n",
    "\n",
    "- Safe Computing refers to practices and precautions taken to protect computers, networks, and data from threats such as viruses, malware, cyberattacks, and unauthorized access"
   ]
  }
 ],
 "metadata": {
  "language_info": {
   "name": "python"
  }
 },
 "nbformat": 4,
 "nbformat_minor": 2
}
