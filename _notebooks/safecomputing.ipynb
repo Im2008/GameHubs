{
 "cells": [
  {
   "cell_type": "raw",
   "metadata": {},
   "source": [
    "---\n",
    "layout: post\n",
    "title: Safe Computing\n",
    "description: Team Teach on Safe Computing\n",
    "type: issues\n",
    "permalink: /safecomputing\n",
    "comments: true\n",
    "---\n"
   ]
  },
  {
   "cell_type": "markdown",
   "metadata": {},
   "source": [
    "## Big Idea 5: Safe Computing ##\n",
    "\n",
    "### What is Safe Computing ###\n",
    "\n",
    "- Safe Computing refers to practices and precautions taken to protect computers, networks, and data from threats such as viruses, malware, cyberattacks, and unauthorized access"
   ]
  },
  {
   "cell_type": "markdown",
   "metadata": {},
   "source": [
    "# What is PII(Personally Identifiable Information)\n",
    "\n",
    "- Information identifying a user on the Internet\n",
    "- Safe computing revolves around this PII and how it is exploited or kept secure\n",
    "\n",
    "## Cookies\n",
    "\n",
    "- A variety of different cookies are used in different sites\n",
    "- These cookies track your PII, track your history on the site, and provide recommendations based on that history\n",
    "- Can breach security of the user because it takes personal info and preferences and displays that on the site"
   ]
  }
 ],
 "metadata": {
  "language_info": {
   "name": "python"
  }
 },
 "nbformat": 4,
 "nbformat_minor": 2
}
