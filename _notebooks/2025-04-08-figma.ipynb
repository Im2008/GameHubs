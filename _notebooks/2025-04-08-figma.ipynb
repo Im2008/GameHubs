{
 "cells": [
  {
   "cell_type": "raw",
   "id": "e06996c1",
   "metadata": {
    "vscode": {
     "languageId": "raw"
    }
   },
   "source": [
    "---\n",
    "toc: true\n",
    "layout: post\n",
    "title: Design Figmas for Pilot City\n",
    "categories: [Planning]\n",
    "---"
   ]
  }
 ],
 "metadata": {
  "language_info": {
   "name": "python"
  }
 },
 "nbformat": 4,
 "nbformat_minor": 5
}
