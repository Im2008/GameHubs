{
 "cells": [
  {
   "cell_type": "raw",
   "metadata": {
    "vscode": {
     "languageId": "raw"
    }
   },
   "source": [
    "---\n",
    "layout: post\n",
    "toc: true\n",
    "toc_label: \"Table of Contents\"\n",
    "toc_sticky: true\n",
    "title: P2 - Crowdsourcing\n",
    "description: Team Teach on Crowdsourcing\n",
    "author: Zach, Ian, Aarush\n",
    "permalink: /crowdsourcing\n",
    "comments: true\n",
    "---\n",
    "\n",
    "## **Big Idea 5.4 Crowdsourcing** <a name=\"big-idea\"></a>\n",
    "\n",
    "## **What is Crowdsourcing?** <a name=\"what-is-crowdsourcing\"></a>\n",
    "\n",
    "## **Types of Crowdsourcing** <a name=\"types-of-crowdsourcing\"></a>\n",
    "\n",
    "## **Introduction to Data Crowdsourcing** <a name=\"data-crowdsourcing\"></a>\n",
    "\n",
    "## **Open Source Development** <a name=\"open-source-development\"></a>\n",
    "\n",
    "## **Evidence of Public Datasets** <a name=\"public-datasets\"></a>\n",
    "\n",
    "## **Introduction to Distributed Computing** <a name=\"distributed-computing\"></a>\n",
    "\n",
    "## **Evidence of Crowdsourcing** <a name=\"evidence\"></a>\n",
    "\n",
    "## **Examples of Successful Crowdsourcing** <a name=\"examples\"></a>\n",
    "\n",
    "## **Homework Question 1** <a name=\"homework-question-1\"></a>\n",
    "\n",
    "## **Homework Question 2** <a name=\"homework-question-2\"></a>\n",
    "\n",
    "## **Homework Question 3** <a name=\"homework-question 3\"></a>\n",
    "\n"
   ]
  },
  {
   "cell_type": "markdown",
   "metadata": {},
   "source": [
    "## **Big Idea 5.4 Crowdsourcing**"
   ]
  },
  {
   "cell_type": "markdown",
   "metadata": {},
   "source": [
    "<hr><br>\n",
    "<img src=\"{{site.baseurl}}/images/download.png\" alt=\"sigma\" width=\"200\" height=\"200\">"
   ]
  },
  {
   "cell_type": "markdown",
   "metadata": {},
   "source": [
    "### **What is Crowdsourcing?**\n",
    " - Crowdsourcing is a method of collecting help, ideas, or input from a large and varied group of people, typically through online platforms. Rather than depending on just a few individuals or experts, crowdsourcing uses the shared knowledge, experiences, and skills of many people to solve problems, collect data, or generate content. This approach can help limit Computer Bias by including more diverse perspectives.\n",
    " - The broader the crowdsourcing effort, the more you go beyond your immediate circle, the better chance you have to reduce Computer Bias. Crowdsourcing allows people to share knowledge, access shared resources, and work together across different locations through distributed computing."
   ]
  },
  {
   "cell_type": "markdown",
   "metadata": {},
   "source": [
    "<hr><br>\n",
    "<img src=\"{{site.baseurl}}/images/crowdsourcing.jpg\" alt=\"sigma\" width=\"200\" height=\"200\">"
   ]
  },
  {
   "cell_type": "markdown",
   "metadata": {},
   "source": [
    "### **Types of Crowdsourcing**\n",
    "\n",
    " Crowdsourcing is a method of obtaining ideas, content, or services by soliciting contributions from a large group of people, typically from an online community. There are four main types of crowdsourcing:\n",
    "\n",
    " 1. Crowdfunding\n",
    " - Purpose: Raising money by collecting small contributions from a large group of people.  \n",
    " - Examples: Kickstarter, GoFundMe, Indiegogo.  \n",
    " - Use Case: A startup company seeking funds to launch a new product.\n",
    "\n",
    " 2. Crowd Creation\n",
    " - Purpose: Gathering creative input from a crowd, often for content generation or design.  \n",
    " - Examples: Threadless (design competitions), Wikipedia (content creation).  \n",
    " - Use Case: A company asking graphic designers to submit logo ideas.\n",
    "\n",
    " 3. Crowd Voting\n",
    " - Purpose: Collecting public opinion or feedback to make decisions or rank options.  \n",
    " - Examples: Reddit upvotes, talent show voting systems.  \n",
    " - Use Case: A company asking users to vote on their next product color.\n",
    "\n",
    " 4. Crowd Wisdom\n",
    " - Purpose: Using collective intelligence for decision-making or problem-solving.  \n",
    " - Examples: Prediction markets, Stack Overflow, Quora.  \n",
    " - Use Case: Gathering expert opinions to forecast stock market trends.\n",
    "\n",
    "---\n",
    "\n",
    " Key Benefits of Crowdsourcing\n",
    " - Access to diverse ideas and skills.  \n",
    " - Cost-effective for organizations.  \n",
    " - Encourages community engagement.\n",
    "\n",
    " Challenges of Crowdsourcing\n",
    " - Ensuring quality control.  \n",
    " - Managing intellectual property rights.  \n",
    " - Avoiding exploitation of contributors."
   ]
  },
  {
   "cell_type": "markdown",
   "metadata": {},
   "source": [
    "<hr><br>\n",
    "<img src=\"{{site.baseurl}}/images/download1.jpg\" alt=\"sigma\" width=\"200\" height=\"200\">"
   ]
  },
  {
   "cell_type": "markdown",
   "metadata": {},
   "source": [
    "### **Introduction to Data Crowdsourcing**\n",
    "\n",
    " Data crowdsourcing is a method of collecting data from a large group of people, typically through online platforms. It involves the collaboration of many individuals to gather, verify, or analyze information.\n",
    "\n",
    " 1. What is Data Crowdsourcing?\n",
    " - Definition: Collecting data, ideas, or solutions from a large group of people, often via the internet.\n",
    " - Purpose: To gather diverse, large-scale, or hard-to-collect data from volunteers or participants.\n",
    "\n",
    " 2. Examples of Data Crowdsourcing\n",
    " - Wikipedia: Collaborative content creation and editing.\n",
    " - Google Maps: Users contribute real-time traffic data and location details.\n",
    " - Amazon Mechanical Turk: Individuals complete microtasks to gather or analyze data.\n",
    "\n",
    "---\n",
    "\n",
    " Key Benefits of Data Crowdsourcing\n",
    " - Quick data collection: Access to vast amounts of data in a short time.\n",
    " - Diverse input: Contributions from a broad and varied group.\n",
    " - Cost-effective: Collects data without the need for a large paid workforce.\n",
    " - Scalability: Easily adapts to large-scale data gathering.\n",
    "\n",
    " Challenges of Data Crowdsourcing\n",
    " - Quality control: Ensuring data accuracy and reliability from diverse contributors.\n",
    " - Privacy concerns: Protecting personal information when crowdsourcing data.\n",
    " - Participant motivation: Encouraging continued contributions without direct compensation.\n",
    "\n",
    "---\n",
    "\n",
    " Ethical Considerations\n",
    " - Compensation: Should participants be paid for their time or contributions?\n",
    " - Data Privacy: How should personal data be handled and protected?\n",
    " - Exploitation: Are crowdsourcing platforms fairly compensating volunteers for their work?\n",
    "\n",
    "---\n",
    "\n",
    " Activity\n",
    " - Crowdsourcing Simulation:\n",
    " - Students contribute ideas or vote on a shared document or poll.\n",
    " - Discuss results as a class and reflect on the collective data gathered.\n",
    "\n",
    "---\n"
   ]
  },
  {
   "cell_type": "markdown",
   "metadata": {},
   "source": [
    "<hr><br>\n",
    "<img src=\"{{site.baseurl}}/images/download2.jpg\" alt=\"sigma\" width=\"200\" height=\"200\">"
   ]
  },
  {
   "cell_type": "markdown",
   "metadata": {},
   "source": [
    "### **Open Source Development**\n",
    "\n",
    " - Open source development is a way of building software where the code is shared openly with the public. This means anyone can view, use, improve, and share the code. People from around the world can work together to make the software better. A popular place for open source projects is GitHub, where developers can add code, report problems, and discuss ideas.\n",
    "\n",
    " Examples of Successful Open Source Projects:\n",
    " - Linux Operating System – Built and updated by a global group of contributors.\n",
    " - Apache HTTP Server – A key tool used to run websites on the internet.\n",
    " - WordPress – A popular platform for creating websites and blogs.\n",
    "\n",
    " Benefits of Open Source Development:\n",
    " - Encourages teamwork and shared ideas.\n",
    " - Allows faster improvements because many people contribute.\n",
    " - Promotes transparency since anyone can see and change the code.\n",
    "\n",
    " Challenges:\n",
    " - It can be hard to manage lots of different contributors.\n",
    " - Project leaders can get overwhelmed (maintainer burnout).\n",
    " - It's important to follow legal rules about using and sharing code (licenses).\n",
    "\n",
    " - Even with challenges, open source development is a great way to build software that is creative, reliable, and open for everyone to use—a perfect match for crowdsourcing projects."
   ]
  },
  {
   "cell_type": "markdown",
   "metadata": {},
   "source": [
    "<hr><br>\n",
    "<img src=\"{{site.baseurl}}/images/download4.jpg\" alt=\"sigma\" width=\"200\" height=\"200\">"
   ]
  },
  {
   "cell_type": "markdown",
   "metadata": {},
   "source": [
    "### **Popcorn Hack 1** \n",
    " Open Source Development Popcorn Hack:\n",
    " - 1. Go to github and find an open source project\n",
    " - 2. Understand the code and know how it works\n",
    " - 3. Find a bug or small issue with the code and submit your changes\n",
    " - 4. Take a screenshot or write the new code here and explain what you changed to improve the code or fix a bug\n",
    " - 5. Comment on an issue or note that you fixed one of the bugs"
   ]
  },
  {
   "cell_type": "markdown",
   "metadata": {},
   "source": [
    "### **Evidence of Public Datasets**\n",
    "\n",
    " Public datasets have become invaluable resources for research, innovation, and development across various industries. Below are key examples that highlight the impact of publicly available data:\n",
    "\n",
    " 1. Kaggle Datasets\n",
    " - Evidence: Hosts thousands of publicly available datasets for data science and machine learning projects.  \n",
    " - Impact: Supports data scientists by providing structured data for competitions, research, and model development.  \n",
    " - Notable Fact: Datasets like the Titanic passenger list and COVID-19 statistics have led to impactful insights.\n",
    "\n",
    " 2. Google Open Images\n",
    " - Evidence: A collection of over 9 million annotated images for machine learning projects.  \n",
    " - Impact: Provides high-quality image data to improve computer vision models.  \n",
    " - Notable Fact: Widely used in academic research and AI development.\n",
    "\n",
    " 3. UCI Machine Learning Repository\n",
    " - Evidence: Offers hundreds of datasets for ML research, dating back to the 1980s.  \n",
    " - Impact: Became a foundational resource for learning algorithms and testing models.  \n",
    " - Notable Fact: The Iris dataset, one of the most famous in data science, originates here.\n",
    "\n",
    " 4. NASA Earth Observations (NEO)\n",
    " - Evidence: Provides global climate, atmospheric, and environmental data.  \n",
    " - Impact: Used by scientists and researchers for climate change analysis and environmental monitoring.  \n",
    " - Notable Fact: NEO data has contributed to critical studies on global warming and natural disasters.\n",
    "\n",
    " 5. World Bank Open Data\n",
    " - Evidence: Offers economic, social, and demographic data from countries worldwide.  \n",
    " - Impact: Supports policy development, academic research, and global economic analysis.  \n",
    " - Notable Fact: Data from this platform has helped track global poverty trends.\n",
    "\n",
    "---\n",
    "\n",
    " Key Insights from Public Datasets\n",
    " - Accessibility: Public datasets provide free and open resources for learning, research, and development.  \n",
    " - Innovation Driver: These datasets have fueled advancements in AI, healthcare, economics, and more.  \n",
    " - Global Impact: Public data empowers individuals and organizations to address real-world challenges.\n",
    "\n",
    " Public datasets continue to democratize data-driven decision-making, fostering progress across various fields."
   ]
  },
  {
   "cell_type": "markdown",
   "metadata": {},
   "source": [
    "<hr><br>\n",
    "<img src=\"{{site.baseurl}}/images/download5.jpg\" alt=\"sigma\" width=\"200\" height=\"200\">"
   ]
  },
  {
   "cell_type": "markdown",
   "metadata": {},
   "source": [
    "### **Introduction to Distributed Computing**\n",
    "\n",
    "Distributed computing involves a system of multiple computers working together over a network to solve a problem or complete a task. These systems share resources, such as processing power, storage, and data, to achieve a common goal.\n",
    "\n",
    "#### **1. What is Distributed Computing?**\n",
    "- **Definition:** A model where a task is divided and processed by multiple computers or devices connected over a network.\n",
    "- **Purpose:** To harness the combined processing power and resources of multiple machines to handle large or complex tasks more efficiently.\n",
    "\n",
    "#### **2. Examples of Distributed Computing**\n",
    "- **SETI@home:** A distributed computing project that analyzes radio signals to search for extraterrestrial intelligence.\n",
    "- **Bitcoin Mining:** Distributed network of computers working together to verify and process Bitcoin transactions.\n",
    "- **Cloud Computing (e.g., Amazon AWS, Google Cloud):** Distributed servers provide scalable, on-demand computing resources and storage.\n",
    "\n",
    "---\n",
    "\n",
    "#### **Key Benefits of Distributed Computing**\n",
    "- **Scalability:** Can easily scale to handle larger tasks by adding more machines to the network.\n",
    "- **Fault tolerance:** If one machine fails, others can take over to continue the process, ensuring system reliability.\n",
    "- **Efficiency:** Distributes workloads, making it possible to complete tasks faster than using a single machine.\n",
    "- **Resource sharing:** Allows for sharing computing power, storage, and other resources among many machines.\n",
    "\n",
    "#### **Challenges of Distributed Computing**\n",
    "- **Network latency:** Delays due to the time it takes for data to travel across the network.\n",
    "- **Security:** Ensuring that data and processes are secure across multiple machines and locations.\n",
    "- **Complexity:** Managing and coordinating tasks across many machines can be difficult.\n",
    "- **Data consistency:** Ensuring that all machines involved in the process have the same up-to-date data.\n",
    "\n",
    "---\n",
    "\n",
    "#### **Ethical Considerations**\n",
    "- **Privacy:** Ensuring that personal or sensitive data is protected across a distributed network.\n",
    "- **Energy consumption:** Distributed systems, especially in cloud computing, can consume a significant amount of energy, raising sustainability concerns.\n",
    "- **Fair access:** Ensuring equal access to resources in distributed systems, such as computational power, without monopolizing resources.\n",
    "\n",
    "---\n",
    "\n",
    "### **Activity**\n",
    "- **Distributed Computing Simulation:**\n",
    "  - Split the class into small groups, and assign each group to handle a piece of a larger task (such as solving a problem or processing data).\n",
    "  - After completing their individual tasks, have the groups combine their results to achieve the final solution.\n",
    "  - Discuss the challenges of coordination and communication in distributed systems.\n",
    "\n",
    "---\n",
    "\n"
   ]
  },
  {
   "cell_type": "markdown",
   "metadata": {},
   "source": [
    "<hr><br>\n",
    "<img src=\"{{site.baseurl}}/images/download6.png\" alt=\"sigma\" width=\"200\" height=\"200\">"
   ]
  },
  {
   "cell_type": "markdown",
   "metadata": {},
   "source": [
    "### **Innovations Through Crowdsourcing**\n",
    "\n",
    " - Crowdsourcing helps create new and exciting products by bringing together ideas and resources from many people. One great example is Spotify, which uses crowdsourcing to improve music recommendations. When users make collaborative playlists, like for a party, Spotify learns about different music tastes. By looking at what people listen to and share, Spotify suggests new songs that match each person’s preferences. Users also help by sharing details about songs, and this information is checked and approved by the community.\n",
    "\n",
    " - Another example is Kickstarter, a platform that helps people fund creative ideas. Instead of depending on a few big investors, creators can share their projects with the public and get small donations from many supporters. This gives inventors the money they need to turn their ideas into real products.\n",
    "\n",
    " - In short, crowdsourcing helps drive innovation by letting people work together, share knowledge, and support projects. It allows companies and creators to develop things like personalized music suggestions and new inventions that better serve the needs of their audience."
   ]
  },
  {
   "cell_type": "markdown",
   "metadata": {},
   "source": [
    "<hr><br>\n",
    "<img src=\"{{site.baseurl}}/images/crowdsourcing.jpg\" alt=\"sigma\" width=\"200\" height=\"200\">"
   ]
  },
  {
   "cell_type": "markdown",
   "metadata": {},
   "source": [
    "### **Evidence of Crowdsourcing** \n",
    "\n",
    " Crowdsourcing has played a significant role in shaping industries, solving problems, and creating impactful projects. Below are key examples that highlight the success and influence of crowdsourcing:\n",
    "\n",
    " 1. Wikipedia\n",
    " - Evidence: Over 6 million English articles created by volunteers worldwide.  \n",
    " - Impact: Provides free, accessible knowledge across various subjects.  \n",
    " - Notable Fact: Wikipedia thrives on crowd contributions for editing, verifying, and improving content.\n",
    "\n",
    " 2. Duolingo\n",
    " - Evidence: Early language content was sourced from volunteers and users.  \n",
    " - Impact: Helped the platform expand rapidly with accurate translations and course material.  \n",
    " - Notable Fact: Community contributions played a key role in growing over 40 language courses.\n",
    "\n",
    " 3. Waze\n",
    " - Evidence: Real-time traffic updates rely on driver reports and community insights.  \n",
    " - Impact: Enables more accurate navigation by integrating user-contributed road conditions.  \n",
    " - Notable Fact: Millions of drivers actively contribute data daily.\n",
    "\n",
    " 4. LEGO Ideas\n",
    " - Evidence: Fans submit designs, and winning ideas are turned into official LEGO sets.  \n",
    " - Impact: Engages LEGO enthusiasts while inspiring product innovation.  \n",
    " - Notable Fact: The \"Women of NASA\" set, created through LEGO Ideas, became a top-selling kit.\n",
    "\n",
    " 5. SETI@home\n",
    " - Evidence: Utilized idle computer power from volunteers to analyze radio signals for extraterrestrial life.  \n",
    " - Impact: Enabled researchers to process vast amounts of data without investing in expensive infrastructure.  \n",
    " - Notable Fact: Millions of users joined, turning personal computers into part of a global science project.\n",
    "\n",
    "---\n",
    "\n",
    " Key Insights from Crowdsourcing Evidence\n",
    " - Diverse Contributions: Crowdsourcing taps into global talent and knowledge.  \n",
    " - Efficiency Gains: Projects like SETI@home demonstrate how distributed efforts save resources.  \n",
    " - Community Engagement: Platforms like LEGO Ideas foster strong user involvement and creativity.\n",
    "\n",
    " Crowdsourcing continues to revolutionize industries, proving that collective effort can achieve remarkable outcomes."
   ]
  },
  {
   "cell_type": "markdown",
   "metadata": {},
   "source": [
    "<hr><br>\n",
    "<img src=\"{{site.baseurl}}/images/crowdsourcing-types.png\" alt=\"sigma\" width=\"200\" height=\"200\">"
   ]
  },
  {
   "cell_type": "markdown",
   "metadata": {},
   "source": [
    "### **Popcorn Hack 2**\n",
    " - Picture an example that includes crowdsourcing like Duolingo/Wikipedia, and describe how that example uses crowdsourcing."
   ]
  },
  {
   "cell_type": "markdown",
   "metadata": {},
   "source": [
    "### **Obtaining Data via Crowdsourcing**\n",
    "\n",
    "Examples of Successful Crowdsourcing\n",
    "\n",
    " Wikipedia\n",
    "- Evidence: Over 6 million English articles created by volunteers worldwide.  \n",
    "- Impact: Provides free, accessible knowledge across various subjects.  \n",
    "- Notable Fact: Wikipedia thrives on crowd contributions for editing, verifying, and improving content.\n",
    "\n",
    " Duolingo\n",
    "- Evidence: Early language content was sourced from volunteers and users.  \n",
    "- Impact: Helped the platform expand rapidly with accurate translations and course material.  \n",
    "- Notable Fact: Community contributions played a key role in growing over 40 language courses.\n",
    "\n",
    " Waze\n",
    "- Evidence: Real-time traffic updates rely on driver reports and community insights.  \n",
    "- Impact: Enables more accurate navigation by integrating user-contributed road conditions.  \n",
    "- Notable Fact: Millions of drivers actively contribute data daily.\n",
    "\n",
    " LEGO Ideas\n",
    "- Evidence: Fans submit designs, and winning ideas are turned into official LEGO sets.  \n",
    "- Impact: Engages LEGO enthusiasts while inspiring product innovation.  \n",
    "- Notable Fact: The \"Women of NASA\" set, created through LEGO Ideas, became a top-selling kit.\n",
    "\n",
    " SETI@home\n",
    "- Evidence: Utilized idle computer power from volunteers to analyze radio signals for extraterrestrial life.  \n",
    "- Impact: Enabled researchers to process vast amounts of data without investing in expensive infrastructure.  \n",
    "- Notable Fact: Millions of users joined, turning personal computers into part of a global science project.\n",
    "\n",
    "---\n",
    "\n",
    "Key Insights\n",
    "- Diverse Contributions: Crowdsourcing taps into global talent and knowledge.  \n",
    "- Efficiency Gains: Projects like SETI@home demonstrate how distributed efforts save resources.  \n",
    "- Community Engagement: Platforms like LEGO Ideas foster strong user involvement and creativity.\n",
    "\n",
    "Crowdsourcing continues to revolutionize industries, proving that collective effort can achieve remarkable outcomes.\n",
    "\n"
   ]
  },
  {
   "cell_type": "markdown",
   "metadata": {},
   "source": [
    "<hr><br>\n",
    "<img src=\"{{site.baseurl}}/images/crowdsourcing.jpg\" alt=\"sigma\" width=\"200\" height=\"200\">"
   ]
  },
  {
   "cell_type": "markdown",
   "metadata": {},
   "source": [
    "### **Popcorn Hack 3**\n",
    "Identify a real-world example of data crowdsourcing not covered in class. Write a short explanation  about how it works, its benefits, and its challenges."
   ]
  },
  {
   "cell_type": "markdown",
   "metadata": {},
   "source": [
    "### **Homework Question 1**\n",
    " - Explain how crowdsourcing contributes to innovation. Provide 3 examples of successful products or services that have been created through crowdsourcing, and describe how the  efforts of many people helped make it successful."
   ]
  },
  {
   "cell_type": "markdown",
   "metadata": {},
   "source": [
    "### **Homework Question 2**\n",
    "\n",
    " - Think of how public datasets are utilized in making a more open community website. Come up with 2-3 apps/companies that make use of public datasets and describe how they used it to become successful."
   ]
  },
  {
   "cell_type": "markdown",
   "metadata": {},
   "source": [
    "### **Homework Question 3**\n",
    "List two types of crowdsourcing (e.g., crowdfunding, crowd creation) and give examples of what their purposes are.\n"
   ]
  }
 ],
 "metadata": {
  "kernelspec": {
   "display_name": "venv",
   "language": "python",
   "name": "python3"
  },
  "language_info": {
   "codemirror_mode": {
    "name": "ipython",
    "version": 3
   },
   "file_extension": ".py",
   "mimetype": "text/x-python",
   "name": "python",
   "nbconvert_exporter": "python",
   "pygments_lexer": "ipython3",
   "version": "3.12.3"
  }
 },
 "nbformat": 4,
 "nbformat_minor": 2
}
