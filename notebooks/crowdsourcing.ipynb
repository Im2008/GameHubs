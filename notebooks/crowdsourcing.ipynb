{
 "cells": [
  {
   "cell_type": "markdown",
   "metadata": {},
   "source": [
    "---\n",
    "layout: post\n",
    "title: P2 - Crowdsourcing\n",
    "description: Team Teach on Crowdsourcing\n",
    "authors: Zach, Ian, Aarush\n",
    "type: issues\n",
    "comments: true\n",
    "---"
   ]
  },
  {
   "cell_type": "markdown",
   "metadata": {},
   "source": [
    "## Big Idea 5.4 Crowdsourcing"
   ]
  },
  {
   "cell_type": "markdown",
   "metadata": {},
   "source": [
    "(links of stuff below here in bullets)"
   ]
  },
  {
   "cell_type": "markdown",
   "metadata": {},
   "source": [
    "### What is Crowdsourcing?\n",
    "- Crowdsourcing is a method of collecting help, ideas, or input from a large and varied group of people, typically through online platforms. Rather than depending on just a few individuals or experts, crowdsourcing uses the shared knowledge, experiences, and skills of many people to solve problems, collect data, or generate content. This approach can help limit Computer Bias by including more diverse perspectives.\n",
    "- The broader the crowdsourcing effort, the more you go beyond your immediate circle, the better chance you have to reduce Computer Bias. Crowdsourcing allows people to share knowledge, access shared resources, and work together across different locations through distributed computing."
   ]
  },
  {
   "cell_type": "markdown",
   "metadata": {},
   "source": [
    "types of crowdsourcing - ian"
   ]
  },
  {
   "cell_type": "markdown",
   "metadata": {},
   "source": [
    "data crowdsourcing - aarush"
   ]
  },
  {
   "cell_type": "markdown",
   "metadata": {},
   "source": [
    "### Open Source Development\n",
    "\n",
    "- Open source development is a way of building software where the code is shared openly with the public. This means anyone can view, use, improve, and share the code. People from around the world can work together to make the software better. A popular place for open source projects is GitHub, where developers can add code, report problems, and discuss ideas.\n",
    "\n",
    "Examples of Successful Open Source Projects:\n",
    "- Linux Operating System – Built and updated by a global group of contributors.\n",
    "- Apache HTTP Server – A key tool used to run websites on the internet.\n",
    "- WordPress – A popular platform for creating websites and blogs.\n",
    "\n",
    "Benefits of Open Source Development:\n",
    "- Encourages teamwork and shared ideas.\n",
    "- Allows faster improvements because many people contribute.\n",
    "- Promotes transparency since anyone can see and change the code.\n",
    "\n",
    "Challenges:\n",
    "- It can be hard to manage lots of different contributors.\n",
    "- Project leaders can get overwhelmed (maintainer burnout).\n",
    "- It's important to follow legal rules about using and sharing code (licenses).\n",
    "\n",
    "- Even with challenges, open source development is a great way to build software that is creative, reliable, and open for everyone to use—a perfect match for crowdsourcing projects."
   ]
  },
  {
   "cell_type": "markdown",
   "metadata": {},
   "source": [
    "public data sets - ian"
   ]
  },
  {
   "cell_type": "markdown",
   "metadata": {},
   "source": [
    "distributed computing - aarush"
   ]
  },
  {
   "cell_type": "markdown",
   "metadata": {},
   "source": [
    "### Innovations Through Crowdsourcing\n",
    "\n",
    "- Crowdsourcing helps create new and exciting products by bringing together ideas and resources from many people. One great example is Spotify, which uses crowdsourcing to improve music recommendations. When users make collaborative playlists, like for a party, Spotify learns about different music tastes. By looking at what people listen to and share, Spotify suggests new songs that match each person’s preferences. Users also help by sharing details about songs, and this information is checked and approved by the community.\n",
    "\n",
    "- Another example is Kickstarter, a platform that helps people fund creative ideas. Instead of depending on a few big investors, creators can share their projects with the public and get small donations from many supporters. This gives inventors the money they need to turn their ideas into real products.\n",
    "\n",
    "- In short, crowdsourcing helps drive innovation by letting people work together, share knowledge, and support projects. It allows companies and creators to develop things like personalized music suggestions and new inventions that better serve the needs of their audience."
   ]
  },
  {
   "cell_type": "markdown",
   "metadata": {},
   "source": [
    "evidence of crowdsourcing - ian"
   ]
  },
  {
   "cell_type": "markdown",
   "metadata": {},
   "source": [
    "obtaining data via crowdsourcing - aarush"
   ]
  },
  {
   "cell_type": "markdown",
   "metadata": {},
   "source": [
    "#### Popcorn Hack 1 \n",
    "Open Source Development Popcorn Hack:\n",
    "- 1. Go to github and find an open source project\n",
    "- 2. Understand the code and know how it works\n",
    "- 3. Find a bug or small issue with the code and submit your changes\n",
    "- 4. Take a screenshot or write the new code here and explain what you changed to improve the code or fix a bug\n",
    "- 5. Comment on an issue or note that you fixed one of the bugs"
   ]
  },
  {
   "cell_type": "markdown",
   "metadata": {},
   "source": [
    "popcorn hack 2 - ian"
   ]
  },
  {
   "cell_type": "markdown",
   "metadata": {},
   "source": [
    "popcorn hack 3 - aarush"
   ]
  },
  {
   "cell_type": "markdown",
   "metadata": {},
   "source": [
    "#### Homework Question 1\n",
    "- Explain how crowdsourcing contributes to innovation. Provide 3 examples of successful products or services that have been created through crowdsourcing, and describe how the  efforts of many people helped make it successful."
   ]
  },
  {
   "cell_type": "markdown",
   "metadata": {},
   "source": [
    "homework question 2 - ian"
   ]
  },
  {
   "cell_type": "markdown",
   "metadata": {},
   "source": [
    "homework question 3 - aarush"
   ]
  }
 ],
 "metadata": {
  "language_info": {
   "name": "python"
  }
 },
 "nbformat": 4,
 "nbformat_minor": 2
}
