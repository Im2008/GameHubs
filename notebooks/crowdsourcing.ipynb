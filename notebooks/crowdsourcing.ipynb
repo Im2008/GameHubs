{
 "cells": [
  {
   "cell_type": "markdown",
   "metadata": {},
   "source": [
    "---\n",
    "layout: post\n",
    "title: Crowdsourcing\n",
    "description: Team Teach on Crowdsourcing\n",
    "authors: Zach, Ian, Aarush\n",
    "type: issues\n",
    "comments: true\n",
    "---"
   ]
  },
  {
   "cell_type": "markdown",
   "metadata": {},
   "source": [
    "what is crowdsourcing? - zach"
   ]
  },
  {
   "cell_type": "markdown",
   "metadata": {},
   "source": [
    "types of crowdsourcing - ian"
   ]
  },
  {
   "cell_type": "markdown",
   "metadata": {},
   "source": [
    "data crowdsourcing - aarush"
   ]
  },
  {
   "cell_type": "markdown",
   "metadata": {},
   "source": [
    "open source development - zach"
   ]
  },
  {
   "cell_type": "markdown",
   "metadata": {},
   "source": [
    "public data sets - ian"
   ]
  },
  {
   "cell_type": "markdown",
   "metadata": {},
   "source": [
    "distributed computing - aarush"
   ]
  },
  {
   "cell_type": "markdown",
   "metadata": {},
   "source": [
    "innovations - zach"
   ]
  },
  {
   "cell_type": "markdown",
   "metadata": {},
   "source": [
    "evidence of crowdsourcing - ian"
   ]
  },
  {
   "cell_type": "markdown",
   "metadata": {},
   "source": [
    "obtaining data via crowdsourcing - aarush"
   ]
  },
  {
   "cell_type": "markdown",
   "metadata": {},
   "source": [
    "popcorn hack 1 - zach"
   ]
  },
  {
   "cell_type": "markdown",
   "metadata": {},
   "source": [
    "popcorn hack 2 - ian"
   ]
  },
  {
   "cell_type": "markdown",
   "metadata": {},
   "source": [
    "popcorn hack 3 - aarush"
   ]
  },
  {
   "cell_type": "markdown",
   "metadata": {},
   "source": [
    "homework question 1 - zach"
   ]
  },
  {
   "cell_type": "markdown",
   "metadata": {},
   "source": [
    "homework question 2 - ian"
   ]
  },
  {
   "cell_type": "markdown",
   "metadata": {},
   "source": [
    "homework question 3 - aarush"
   ]
  }
 ],
 "metadata": {
  "language_info": {
   "name": "python"
  }
 },
 "nbformat": 4,
 "nbformat_minor": 2
}
